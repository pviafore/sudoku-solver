{
 "cells": [
  {
   "cell_type": "markdown",
   "metadata": {
    "slideshow": {
     "slide_type": "slide"
    }
   },
   "source": [
    "# Sudoku Solver\n",
    "## Pat Viafore\n",
    "### HSV.py Lightning Talks 3/29/18"
   ]
  },
  {
   "cell_type": "markdown",
   "metadata": {
    "slideshow": {
     "slide_type": "slide"
    }
   },
   "source": [
    "# SUDOKU\n",
    "![image](https://upload.wikimedia.org/wikipedia/commons/thumb/e/e0/Sudoku_Puzzle_by_L2G-20050714_standardized_layout.svg/361px-Sudoku_Puzzle_by_L2G-20050714_standardized_layout.svg.png)"
   ]
  },
  {
   "cell_type": "markdown",
   "metadata": {
    "slideshow": {
     "slide_type": "slide"
    }
   },
   "source": [
    "Let's print a board"
   ]
  },
  {
   "cell_type": "code",
   "execution_count": 9,
   "metadata": {
    "slideshow": {
     "slide_type": "subslide"
    }
   },
   "outputs": [],
   "source": [
    "def make_sudoku_line(numbers):\n",
    "    return \" \" + \" | \".join(str(n) for n in numbers) +\"\\n\"\n",
    "\n",
    "def make_sudoku_board(numbers):\n",
    "    dashes = \"\".join([\"-\"] * 36) + \"\\n\"\n",
    "    return dashes.join(make_sudoku_line(numbers[i*9 : i*9+9]) for i in range(9))\n",
    "    "
   ]
  },
  {
   "cell_type": "code",
   "execution_count": 10,
   "metadata": {
    "slideshow": {
     "slide_type": "subslide"
    }
   },
   "outputs": [
    {
     "name": "stdout",
     "output_type": "stream",
     "text": [
      " 0 | 0 | 0 | 0 | 0 | 0 | 0 | 0 | 0\n",
      "------------------------------------\n",
      " 0 | 0 | 0 | 0 | 0 | 0 | 0 | 0 | 0\n",
      "------------------------------------\n",
      " 0 | 0 | 0 | 0 | 0 | 0 | 0 | 0 | 0\n",
      "------------------------------------\n",
      " 0 | 0 | 0 | 0 | 0 | 0 | 0 | 0 | 0\n",
      "------------------------------------\n",
      " 0 | 0 | 0 | 0 | 0 | 0 | 0 | 0 | 0\n",
      "------------------------------------\n",
      " 0 | 0 | 0 | 0 | 0 | 0 | 0 | 0 | 0\n",
      "------------------------------------\n",
      " 0 | 0 | 0 | 0 | 0 | 0 | 0 | 0 | 0\n",
      "------------------------------------\n",
      " 0 | 0 | 0 | 0 | 0 | 0 | 0 | 0 | 0\n",
      "------------------------------------\n",
      " 0 | 0 | 0 | 0 | 0 | 0 | 0 | 0 | 0\n",
      "\n"
     ]
    }
   ],
   "source": [
    "print(make_sudoku_board([0] * 81))"
   ]
  },
  {
   "cell_type": "code",
   "execution_count": 11,
   "metadata": {
    "slideshow": {
     "slide_type": "subslide"
    }
   },
   "outputs": [
    {
     "name": "stdout",
     "output_type": "stream",
     "text": [
      " 2 | 0 | 5 | 0 | 0 | 8 | 0 | 0 | 3\n",
      "------------------------------------\n",
      " 0 | 8 | 6 | 3 | 0 | 0 | 7 | 0 | 0\n",
      "------------------------------------\n",
      " 9 | 3 | 0 | 0 | 0 | 0 | 0 | 0 | 0\n",
      "------------------------------------\n",
      " 8 | 1 | 0 | 0 | 0 | 3 | 6 | 7 | 0\n",
      "------------------------------------\n",
      " 0 | 9 | 0 | 0 | 8 | 0 | 0 | 0 | 1\n",
      "------------------------------------\n",
      " 0 | 0 | 7 | 0 | 2 | 0 | 8 | 5 | 9\n",
      "------------------------------------\n",
      " 1 | 0 | 0 | 8 | 0 | 0 | 0 | 4 | 0\n",
      "------------------------------------\n",
      " 6 | 2 | 0 | 0 | 4 | 7 | 9 | 0 | 0\n",
      "------------------------------------\n",
      " 0 | 0 | 8 | 9 | 3 | 5 | 0 | 2 | 0\n",
      "\n"
     ]
    }
   ],
   "source": [
    "BOARD1 = [2, 0, 5, 0, 0, 8, 0, 0, 3, 0, 8, 6, 3, 0, 0, 7, 0, 0, 9, 3, 0, 0, 0, 0, 0, 0, 0, 8, 1, 0, 0, 0, 3, 6, 7, 0, 0, 9, 0, 0, 8, 0, 0, 0, 1, 0, 0, 7, 0, 2, 0, 8, 5, 9, 1, 0, 0, 8, 0, 0, 0,  4, 0, 6, 2, 0, 0, 4, 7, 9, 0, 0, 0, 0, 8, 9, 3, 5, 0, 2, 0]\n",
    "print(make_sudoku_board(BOARD1))"
   ]
  },
  {
   "cell_type": "markdown",
   "metadata": {
    "slideshow": {
     "slide_type": "slide"
    }
   },
   "source": [
    "# How do you solve it programatically"
   ]
  },
  {
   "cell_type": "markdown",
   "metadata": {
    "slideshow": {
     "slide_type": "subslide"
    }
   },
   "source": [
    "## Brute Force?"
   ]
  },
  {
   "cell_type": "code",
   "execution_count": 12,
   "metadata": {
    "slideshow": {
     "slide_type": "subslide"
    }
   },
   "outputs": [
    {
     "data": {
      "text/plain": [
       "756680642578125"
      ]
     },
     "execution_count": 12,
     "metadata": {},
     "output_type": "execute_result"
    }
   ],
   "source": [
    "45**9"
   ]
  },
  {
   "cell_type": "markdown",
   "metadata": {
    "slideshow": {
     "slide_type": "slide"
    }
   },
   "source": [
    "# How to check if a board is valid"
   ]
  },
  {
   "cell_type": "code",
   "execution_count": 13,
   "metadata": {
    "slideshow": {
     "slide_type": "subslide"
    }
   },
   "outputs": [
    {
     "name": "stdout",
     "output_type": "stream",
     "text": [
      "(0, 0)\n",
      "(0, 1)\n",
      "(2, 2)\n",
      "(0, 0)\n",
      "(1, 1)\n"
     ]
    }
   ],
   "source": [
    "def get_square(number):\n",
    "    return (number//9//3, number%9//3)\n",
    "\n",
    "print(get_square(0))\n",
    "print(get_square(3))\n",
    "print(get_square(80))\n",
    "print(get_square(10))\n",
    "print(get_square(40))"
   ]
  },
  {
   "cell_type": "code",
   "execution_count": 14,
   "metadata": {
    "slideshow": {
     "slide_type": "subslide"
    }
   },
   "outputs": [
    {
     "data": {
      "text/plain": [
       "[[0, 1, 2, 9, 10, 11, 18, 19, 20],\n",
       " [3, 4, 5, 12, 13, 14, 21, 22, 23],\n",
       " [6, 7, 8, 15, 16, 17, 24, 25, 26],\n",
       " [27, 28, 29, 36, 37, 38, 45, 46, 47],\n",
       " [30, 31, 32, 39, 40, 41, 48, 49, 50],\n",
       " [33, 34, 35, 42, 43, 44, 51, 52, 53],\n",
       " [54, 55, 56, 63, 64, 65, 72, 73, 74],\n",
       " [57, 58, 59, 66, 67, 68, 75, 76, 77],\n",
       " [60, 61, 62, 69, 70, 71, 78, 79, 80]]"
      ]
     },
     "execution_count": 14,
     "metadata": {},
     "output_type": "execute_result"
    }
   ],
   "source": [
    "from itertools import groupby \n",
    "sorted_by_square = sorted((n for n in range(81)), key=get_square) \n",
    "squares = [list(g) for _, g in groupby(sorted_by_square, key=get_square)]\n",
    "squares"
   ]
  },
  {
   "cell_type": "code",
   "execution_count": 15,
   "metadata": {
    "slideshow": {
     "slide_type": "subslide"
    }
   },
   "outputs": [],
   "source": [
    "def is_valid(numbers):\n",
    "    n = [x for x in numbers if x != 0]\n",
    "    return len(n) == len(set(n))\n",
    "\n",
    "def is_square_valid(numbers, square):\n",
    "    cells = [numbers[i] for i in square]\n",
    "    return is_valid(cells)\n",
    "\n",
    "def is_board_valid(numbers):\n",
    "    rows_valid = all(is_valid(numbers[i*9:i*9+9]) for i in range(9))\n",
    "    columns_valid = all(is_valid(numbers[i::9]) for i in range (9))\n",
    "    squares_valid = all(is_square_valid(numbers, sq) for sq in squares)\n",
    "    return rows_valid and columns_valid and squares_valid"
   ]
  },
  {
   "cell_type": "code",
   "execution_count": 16,
   "metadata": {
    "slideshow": {
     "slide_type": "subslide"
    }
   },
   "outputs": [],
   "source": [
    "def is_complete(numbers):\n",
    "    return 0 not in numbers"
   ]
  },
  {
   "cell_type": "code",
   "execution_count": 17,
   "metadata": {
    "slideshow": {
     "slide_type": "fragment"
    }
   },
   "outputs": [
    {
     "name": "stdout",
     "output_type": "stream",
     "text": [
      "True\n",
      "False\n"
     ]
    }
   ],
   "source": [
    "print(is_board_valid(BOARD1))\n",
    "print(is_complete(BOARD1))"
   ]
  },
  {
   "cell_type": "markdown",
   "metadata": {
    "slideshow": {
     "slide_type": "slide"
    }
   },
   "source": [
    "# What possible moves are there"
   ]
  },
  {
   "cell_type": "code",
   "execution_count": 18,
   "metadata": {
    "slideshow": {
     "slide_type": "subslide"
    }
   },
   "outputs": [],
   "source": [
    "def get_possible_moves(numbers, cell):\n",
    "    return range(1,10)\n",
    "\n",
    "def get_next_blank_index(numbers):\n",
    "    return next(idx for idx,val in enumerate(numbers) if val == 0)\n",
    "    "
   ]
  },
  {
   "cell_type": "markdown",
   "metadata": {
    "slideshow": {
     "slide_type": "slide"
    }
   },
   "source": [
    "# Let's see a solver"
   ]
  },
  {
   "cell_type": "code",
   "execution_count": 19,
   "metadata": {
    "slideshow": {
     "slide_type": "subslide"
    }
   },
   "outputs": [],
   "source": [
    "def solve(numbers):\n",
    "    if not is_board_valid(numbers):\n",
    "        return (False, numbers)\n",
    "    if is_complete(numbers):\n",
    "        return (True, numbers)\n",
    "    index = get_next_blank_index(numbers)\n",
    "    for move in get_possible_moves(numbers, index):\n",
    "        copy = list(numbers)\n",
    "        copy[index] = move\n",
    "        success, solved = solve(copy)\n",
    "        if success:\n",
    "            return (True, solved)\n",
    "    return (False, numbers)"
   ]
  },
  {
   "cell_type": "code",
   "execution_count": 20,
   "metadata": {
    "slideshow": {
     "slide_type": "subslide"
    }
   },
   "outputs": [],
   "source": [
    "success, solved = solve(BOARD1)"
   ]
  },
  {
   "cell_type": "code",
   "execution_count": 21,
   "metadata": {
    "slideshow": {
     "slide_type": "subslide"
    }
   },
   "outputs": [
    {
     "name": "stdout",
     "output_type": "stream",
     "text": [
      " 2 | 7 | 5 | 6 | 1 | 8 | 4 | 9 | 3\n",
      "------------------------------------\n",
      " 4 | 8 | 6 | 3 | 5 | 9 | 7 | 1 | 2\n",
      "------------------------------------\n",
      " 9 | 3 | 1 | 2 | 7 | 4 | 5 | 6 | 8\n",
      "------------------------------------\n",
      " 8 | 1 | 2 | 5 | 9 | 3 | 6 | 7 | 4\n",
      "------------------------------------\n",
      " 5 | 9 | 4 | 7 | 8 | 6 | 2 | 3 | 1\n",
      "------------------------------------\n",
      " 3 | 6 | 7 | 4 | 2 | 1 | 8 | 5 | 9\n",
      "------------------------------------\n",
      " 1 | 5 | 9 | 8 | 6 | 2 | 3 | 4 | 7\n",
      "------------------------------------\n",
      " 6 | 2 | 3 | 1 | 4 | 7 | 9 | 8 | 5\n",
      "------------------------------------\n",
      " 7 | 4 | 8 | 9 | 3 | 5 | 1 | 2 | 6\n",
      "\n"
     ]
    }
   ],
   "source": [
    "print(make_sudoku_board(solved))"
   ]
  },
  {
   "cell_type": "markdown",
   "metadata": {
    "slideshow": {
     "slide_type": "slide"
    }
   },
   "source": [
    "# So What's Going On Here?"
   ]
  },
  {
   "cell_type": "markdown",
   "metadata": {
    "slideshow": {
     "slide_type": "subslide"
    }
   },
   "source": [
    "## Backtracking"
   ]
  },
  {
   "cell_type": "markdown",
   "metadata": {
    "slideshow": {
     "slide_type": "subslide"
    }
   },
   "source": [
    "<img src=\"https://upload.wikimedia.org/wikipedia/commons/8/8c/Sudoku_solved_by_bactracking.gif\" />"
   ]
  },
  {
   "cell_type": "markdown",
   "metadata": {
    "slideshow": {
     "slide_type": "subslide"
    }
   },
   "source": [
    "## Constraint Satisfaction Problem"
   ]
  },
  {
   "cell_type": "code",
   "execution_count": 8,
   "metadata": {
    "slideshow": {
     "slide_type": "subslide"
    }
   },
   "outputs": [],
   "source": [
    "def solve(numbers):\n",
    "    if not is_board_valid(numbers):\n",
    "        return (False, numbers)\n",
    "    if is_complete(numbers):\n",
    "        return (True, numbers)\n",
    "    index = get_next_blank_index(numbers)\n",
    "    for move in get_possible_moves(numbers, index):\n",
    "        copy = list(numbers)\n",
    "        copy[index] = move\n",
    "        success, solved = solve(copy)\n",
    "        if success:\n",
    "            return (True, solved)\n",
    "    return (False, numbers)"
   ]
  },
  {
   "cell_type": "code",
   "execution_count": 8,
   "metadata": {
    "slideshow": {
     "slide_type": "subslide"
    }
   },
   "outputs": [],
   "source": [
    "def solve(problem):\n",
    "    if not is_solution_valid(problem):\n",
    "        return (False, problem)\n",
    "    if is_complete(problem):\n",
    "        return (True, problem)\n",
    "    index = get_next_candidate(problem)\n",
    "    for move in get_possible_moves(problem, index):\n",
    "        copy = list(numbers)\n",
    "        copy[index] = move\n",
    "        success, solved = solve(copy)\n",
    "        if success:\n",
    "            return (True, solved)\n",
    "    return (False, problem)"
   ]
  },
  {
   "cell_type": "markdown",
   "metadata": {
    "slideshow": {
     "slide_type": "subslide"
    }
   },
   "source": [
    "## Branch And Prune"
   ]
  },
  {
   "cell_type": "code",
   "execution_count": 8,
   "metadata": {
    "slideshow": {
     "slide_type": "subslide"
    }
   },
   "outputs": [],
   "source": [
    "def solve(problem):\n",
    "    # This line is the PRUNE \n",
    "    if not is_solution_valid(problem):\n",
    "        return (False, problem)\n",
    "    if is_complete(problem):\n",
    "        return (True, problem)\n",
    "    index = get_next_candidate(problem)\n",
    "    # Each line is a branch\n",
    "    for move in get_possible_moves(problem, index):\n",
    "        copy = list(numbers)\n",
    "        copy[index] = move\n",
    "        success, solved = solve(copy)\n",
    "        if success:\n",
    "            return (True, solved)\n",
    "    return (False, numbers)"
   ]
  },
  {
   "cell_type": "markdown",
   "metadata": {
    "slideshow": {
     "slide_type": "slide"
    }
   },
   "source": [
    "# Performance"
   ]
  },
  {
   "cell_type": "markdown",
   "metadata": {
    "slideshow": {
     "slide_type": "subslide"
    }
   },
   "source": [
    "## Still has the potential to be incredibly slow"
   ]
  },
  {
   "cell_type": "markdown",
   "metadata": {
    "slideshow": {
     "slide_type": "fragment"
    }
   },
   "source": [
    "* Figure out how to limit the number of branches\n",
    "* Find out how to prune more branches "
   ]
  },
  {
   "cell_type": "markdown",
   "metadata": {
    "slideshow": {
     "slide_type": "subslide"
    }
   },
   "source": [
    "## There are better alternatives, but they are far more complicated"
   ]
  },
  {
   "cell_type": "markdown",
   "metadata": {
    "slideshow": {
     "slide_type": "slide"
    }
   },
   "source": [
    "# Other Applications"
   ]
  },
  {
   "cell_type": "markdown",
   "metadata": {
    "slideshow": {
     "slide_type": "subslide"
    }
   },
   "source": [
    "## Logic Puzzles\n",
    "<img src=\"http://twimgs.com/ddj/images/article/2009/0902/090217gointelqueen_f7.gif\" />"
   ]
  },
  {
   "cell_type": "markdown",
   "metadata": {
    "slideshow": {
     "slide_type": "subslide"
    }
   },
   "source": [
    "## Real World Applications\n"
   ]
  },
  {
   "cell_type": "markdown",
   "metadata": {
    "slideshow": {
     "slide_type": "fragment"
    }
   },
   "source": [
    "* Dependency Resolution"
   ]
  },
  {
   "cell_type": "markdown",
   "metadata": {
    "slideshow": {
     "slide_type": "fragment"
    }
   },
   "source": [
    "* Spatial Layout"
   ]
  },
  {
   "cell_type": "markdown",
   "metadata": {
    "slideshow": {
     "slide_type": "fragment"
    }
   },
   "source": [
    "* Scheduling with Constraints"
   ]
  },
  {
   "cell_type": "markdown",
   "metadata": {
    "slideshow": {
     "slide_type": "slide"
    }
   },
   "source": [
    "# Thank You"
   ]
  }
 ],
 "metadata": {
  "celltoolbar": "Slideshow",
  "kernelspec": {
   "display_name": "Python 3",
   "language": "python",
   "name": "python3"
  },
  "language_info": {
   "codemirror_mode": {
    "name": "ipython",
    "version": 3
   },
   "file_extension": ".py",
   "mimetype": "text/x-python",
   "name": "python",
   "nbconvert_exporter": "python",
   "pygments_lexer": "ipython3",
   "version": "3.7.0a1"
  }
 },
 "nbformat": 4,
 "nbformat_minor": 2
}
